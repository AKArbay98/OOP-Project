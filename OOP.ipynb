{
 "cells": [
  {
   "cell_type": "code",
   "execution_count": 135,
   "metadata": {},
   "outputs": [],
   "source": [
    "from datetime import date\n",
    "class Hospital():\n",
    "    def __init__(self,Name,Adress,Departments,Doctors):\n",
    "        self.Name=Name\n",
    "        self.Adress=Adress\n",
    "        self.Departments=Departments\n",
    "        self.Doctors=Doctors\n",
    "        self.__Reservations=[]\n",
    "        \n",
    "        \n",
    "    def getName(self):\n",
    "        return self.Name\n",
    "    \n",
    "    def getAdress(self):\n",
    "        return self.Adress\n",
    "    \n",
    "    def setAdress(self,new_adress):\n",
    "        self.Adress=new_adress\n",
    "        print(\"The adress of the hospital has been changed.\",\"Our new address is in {new_adress}\".format(new_adress=new_adress))\n",
    "    \n",
    "    def getDepartments(self):\n",
    "        print(\"===============Our Departments===============\")\n",
    "        for Departments in self.Departments:\n",
    "            print(\"\"\"\n",
    "            \n",
    "                 Departments:{Departments} \n",
    "            \"\"\".format(Departments=Departments))\n",
    "            print(\"-\"*50)\n",
    "            \n",
    "            \n",
    "    def setDepartments(self,new_department):\n",
    "        self.Departments.append(new_department)\n",
    "        print(\"New department added.\",\"Our new department is {new_department}\".format(new_department=new_department))\n",
    "        \n",
    "        \n",
    "        \n",
    "    def getDoctors(self):\n",
    "        print(\"===============Our Doctors===============\")\n",
    "        for Doctors in self.Doctors:\n",
    "            print(\"\"\"\n",
    "            \n",
    "                 Name:{name}\n",
    "                 Surname:{surname}\n",
    "                 Department:{department}\n",
    "                 \n",
    "            \"\"\".format(name=Doctors.getname(),surname=Doctors.getsurname(),department=Doctors.getdepart()))\n",
    "            print(\"-\"*50)\n",
    "            \n",
    "            \n",
    "    def setDoctors(self,new_doctors):\n",
    "        self.Doctors.append(new_doctors)\n",
    "        print(\"New doctors added.\",\"Our new doctors is {new_doctors}\".format(new_doctors=new_doctors))\n",
    "        \n",
    "    \n",
    "    def reservations(self,patients,req_doc,req_date):\n",
    "        availability = True\n",
    "        for reserv in self.__Reservations:\n",
    "            patient_in_list = reserv[0]\n",
    "            doctor_in_list = reserv[1]\n",
    "            date_in_list = reserv[2]\n",
    "            \n",
    "            if doctor_in_list == req_doc  and date_in_list == req_date:\n",
    "                print(\"Reservation is full. Please book another doctor or another date.\")\n",
    "                availability = False\n",
    "                \n",
    "        if availability:\n",
    "            self.__Reservations.append((patients,req_doc,req_date))\n",
    "            \n",
    "    \n",
    "    def getreservations(self):\n",
    "        print(\"=============== Our Reservations ===============\")\n",
    "        for reserv in self.__Reservations:\n",
    "            patient_in_list = reserv[0]\n",
    "            doctor_in_list = reserv[1]\n",
    "            date_in_list = reserv[2]\n",
    "            print(\"The patient, surname:{patientsurname}, name:{patientname}; has an appointment with doctor {doctorname} {doctorsurname} in {rezdate}.\"\n",
    "                 .format(patientname=patient_in_list.getname(),patientsurname=patient_in_list.getsurname(),\n",
    "                         doctorname=doctor_in_list.getname(),doctorsurname=doctor_in_list.getsurname(),rezdate=date_in_list))\n",
    "            print(\"-\"*50)\n",
    "        \n",
    "class Person():\n",
    "    def __init__(self,name,surname):\n",
    "        self.name=name\n",
    "        self.surname=surname\n",
    "        \n",
    "        \n",
    "    def getname(self):\n",
    "        return self.name\n",
    "        \n",
    "    def getsurname(self):\n",
    "        return self.surname\n",
    "    \n",
    "    \n",
    "class Doctor(Person):\n",
    "    def __init__(self,name,surname,department):\n",
    "        super().__init__(name,surname)\n",
    "        self.department=department\n",
    "        \n",
    "        \n",
    "    def getdepart(self):\n",
    "        return self.department\n",
    "    \n",
    "    \n",
    "class Patient(Person):\n",
    "    pass"
   ]
  },
  {
   "cell_type": "code",
   "execution_count": 136,
   "metadata": {},
   "outputs": [],
   "source": [
    "d1=Doctor(\"Levent\",\"Yılmaz\",\"ENT\")\n",
    "d2=Doctor(\"Devrim\",\"Güler\",\"Urology\")\n",
    "d3=Doctor(\"Gürsel\",\"Sümer\",\"Plastic surgery\")\n",
    "d4=Doctor(\"Güney\",\"Cevahir\",\"Neurology\")\n",
    "d5=Doctor(\"Dursun\",\"Koçak\",\"Psychiatry\")\n",
    "d6=Doctor(\"Nuriye\",\"Giray\",\"Cardiology\")\n",
    "d7=Doctor(\"Ülkü\",\"Ağalı\",\"Dermatology\")\n",
    "d8=Doctor(\"Irmak\",\"Topuz\",\"Pulmonology\")\n",
    "d9=Doctor(\"Müge\",\"Zeybek\",\"Oncology\")\n",
    "d10=Doctor(\"Dilan\",\"Gökay\",\"Gynecology\")\n",
    "p1=Patient(\"Ediz\",\"Baykara\")\n",
    "p2=Patient(\"Evren\",\"Ergün\")\n",
    "p3=Patient(\"Utku\",\"Süleymanoğlu\")\n",
    "p4=Patient(\"Abidin\",\"İşler\")\n",
    "p5=Patient(\"İlkay\",\"Karadeniz\")\n",
    "p6=Patient(\"Elvan\",\"Sağlam\")\n",
    "p7=Patient(\"Damla\",\"Altınay\")\n",
    "p8=Patient(\"Gülben\",\"Akça\")\n",
    "p9=Patient(\"Berrak\",\"İşcan\")\n",
    "p10=Patient(\"Serpil\",\"Şeker\")\n",
    "Depart = [\"ENT\",\"Urology\",\"Plastic surgery\",\"Neurology\",\"Psychiatry\",\"Cardiology\",\"Dermatology\",\"Pulmonology\",\"Oncology\",\"Gynecology\"]\n",
    "\n"
   ]
  },
  {
   "cell_type": "code",
   "execution_count": 137,
   "metadata": {},
   "outputs": [
    {
     "data": {
      "text/plain": [
       "'Levent'"
      ]
     },
     "execution_count": 137,
     "metadata": {},
     "output_type": "execute_result"
    }
   ],
   "source": [
    "d1.getname()"
   ]
  },
  {
   "cell_type": "code",
   "execution_count": 138,
   "metadata": {},
   "outputs": [
    {
     "data": {
      "text/plain": [
       "'Yılmaz'"
      ]
     },
     "execution_count": 138,
     "metadata": {},
     "output_type": "execute_result"
    }
   ],
   "source": [
    "d1.getsurname()"
   ]
  },
  {
   "cell_type": "code",
   "execution_count": 139,
   "metadata": {},
   "outputs": [
    {
     "data": {
      "text/plain": [
       "'ENT'"
      ]
     },
     "execution_count": 139,
     "metadata": {},
     "output_type": "execute_result"
    }
   ],
   "source": [
    "d1.getdepart()"
   ]
  },
  {
   "cell_type": "code",
   "execution_count": 140,
   "metadata": {},
   "outputs": [
    {
     "data": {
      "text/plain": [
       "'Devrim'"
      ]
     },
     "execution_count": 140,
     "metadata": {},
     "output_type": "execute_result"
    }
   ],
   "source": [
    "d2.getname()"
   ]
  },
  {
   "cell_type": "code",
   "execution_count": 141,
   "metadata": {},
   "outputs": [
    {
     "data": {
      "text/plain": [
       "'Güler'"
      ]
     },
     "execution_count": 141,
     "metadata": {},
     "output_type": "execute_result"
    }
   ],
   "source": [
    "d2.getsurname()"
   ]
  },
  {
   "cell_type": "code",
   "execution_count": 142,
   "metadata": {},
   "outputs": [
    {
     "data": {
      "text/plain": [
       "'Urology'"
      ]
     },
     "execution_count": 142,
     "metadata": {},
     "output_type": "execute_result"
    }
   ],
   "source": [
    "d2.getdepart()"
   ]
  },
  {
   "cell_type": "code",
   "execution_count": 143,
   "metadata": {},
   "outputs": [
    {
     "data": {
      "text/plain": [
       "'Ediz'"
      ]
     },
     "execution_count": 143,
     "metadata": {},
     "output_type": "execute_result"
    }
   ],
   "source": [
    "p1.getname()"
   ]
  },
  {
   "cell_type": "code",
   "execution_count": 144,
   "metadata": {},
   "outputs": [
    {
     "data": {
      "text/plain": [
       "'Ergün'"
      ]
     },
     "execution_count": 144,
     "metadata": {},
     "output_type": "execute_result"
    }
   ],
   "source": [
    "p2.getsurname()"
   ]
  },
  {
   "cell_type": "code",
   "execution_count": 145,
   "metadata": {},
   "outputs": [],
   "source": [
    "h1=Hospital(\"Bahçelievler Devlet Hastanesi\",\"Kocasinan Merkez, Karadeniz Cd. No:48, 34186 Bahçelievler/İstanbul\",Depart,[d1,d2,d3,d4,d5,d6,d7,d8,d9,d10])"
   ]
  },
  {
   "cell_type": "code",
   "execution_count": 146,
   "metadata": {},
   "outputs": [
    {
     "data": {
      "text/plain": [
       "'Kocasinan Merkez, Karadeniz Cd. No:48, 34186 Bahçelievler/İstanbul'"
      ]
     },
     "execution_count": 146,
     "metadata": {},
     "output_type": "execute_result"
    }
   ],
   "source": [
    "h1.getAdress()"
   ]
  },
  {
   "cell_type": "code",
   "execution_count": 147,
   "metadata": {},
   "outputs": [
    {
     "data": {
      "text/plain": [
       "'Bahçelievler Devlet Hastanesi'"
      ]
     },
     "execution_count": 147,
     "metadata": {},
     "output_type": "execute_result"
    }
   ],
   "source": [
    "h1.getName()"
   ]
  },
  {
   "cell_type": "code",
   "execution_count": 148,
   "metadata": {},
   "outputs": [
    {
     "name": "stdout",
     "output_type": "stream",
     "text": [
      "===============Our Departments===============\n",
      "\n",
      "            \n",
      "                 Departments:ENT \n",
      "            \n",
      "--------------------------------------------------\n",
      "\n",
      "            \n",
      "                 Departments:Urology \n",
      "            \n",
      "--------------------------------------------------\n",
      "\n",
      "            \n",
      "                 Departments:Plastic surgery \n",
      "            \n",
      "--------------------------------------------------\n",
      "\n",
      "            \n",
      "                 Departments:Neurology \n",
      "            \n",
      "--------------------------------------------------\n",
      "\n",
      "            \n",
      "                 Departments:Psychiatry \n",
      "            \n",
      "--------------------------------------------------\n",
      "\n",
      "            \n",
      "                 Departments:Cardiology \n",
      "            \n",
      "--------------------------------------------------\n",
      "\n",
      "            \n",
      "                 Departments:Dermatology \n",
      "            \n",
      "--------------------------------------------------\n",
      "\n",
      "            \n",
      "                 Departments:Pulmonology \n",
      "            \n",
      "--------------------------------------------------\n",
      "\n",
      "            \n",
      "                 Departments:Oncology \n",
      "            \n",
      "--------------------------------------------------\n",
      "\n",
      "            \n",
      "                 Departments:Gynecology \n",
      "            \n",
      "--------------------------------------------------\n"
     ]
    }
   ],
   "source": [
    "h1.getDepartments()"
   ]
  },
  {
   "cell_type": "code",
   "execution_count": 149,
   "metadata": {},
   "outputs": [
    {
     "name": "stdout",
     "output_type": "stream",
     "text": [
      "===============Our Doctors===============\n",
      "\n",
      "            \n",
      "                 Name:Levent\n",
      "                 Surname:Yılmaz\n",
      "                 Department:ENT\n",
      "                 \n",
      "            \n",
      "--------------------------------------------------\n",
      "\n",
      "            \n",
      "                 Name:Devrim\n",
      "                 Surname:Güler\n",
      "                 Department:Urology\n",
      "                 \n",
      "            \n",
      "--------------------------------------------------\n",
      "\n",
      "            \n",
      "                 Name:Gürsel\n",
      "                 Surname:Sümer\n",
      "                 Department:Plastic surgery\n",
      "                 \n",
      "            \n",
      "--------------------------------------------------\n",
      "\n",
      "            \n",
      "                 Name:Güney\n",
      "                 Surname:Cevahir\n",
      "                 Department:Neurology\n",
      "                 \n",
      "            \n",
      "--------------------------------------------------\n",
      "\n",
      "            \n",
      "                 Name:Dursun\n",
      "                 Surname:Koçak\n",
      "                 Department:Psychiatry\n",
      "                 \n",
      "            \n",
      "--------------------------------------------------\n",
      "\n",
      "            \n",
      "                 Name:Nuriye\n",
      "                 Surname:Giray\n",
      "                 Department:Cardiology\n",
      "                 \n",
      "            \n",
      "--------------------------------------------------\n",
      "\n",
      "            \n",
      "                 Name:Ülkü\n",
      "                 Surname:Ağalı\n",
      "                 Department:Dermatology\n",
      "                 \n",
      "            \n",
      "--------------------------------------------------\n",
      "\n",
      "            \n",
      "                 Name:Irmak\n",
      "                 Surname:Topuz\n",
      "                 Department:Pulmonology\n",
      "                 \n",
      "            \n",
      "--------------------------------------------------\n",
      "\n",
      "            \n",
      "                 Name:Müge\n",
      "                 Surname:Zeybek\n",
      "                 Department:Oncology\n",
      "                 \n",
      "            \n",
      "--------------------------------------------------\n",
      "\n",
      "            \n",
      "                 Name:Dilan\n",
      "                 Surname:Gökay\n",
      "                 Department:Gynecology\n",
      "                 \n",
      "            \n",
      "--------------------------------------------------\n"
     ]
    }
   ],
   "source": [
    "h1.getDoctors()"
   ]
  },
  {
   "cell_type": "code",
   "execution_count": 150,
   "metadata": {},
   "outputs": [
    {
     "name": "stdout",
     "output_type": "stream",
     "text": [
      "=============== Our Reservations ===============\n"
     ]
    }
   ],
   "source": [
    "h1.getreservations()"
   ]
  },
  {
   "cell_type": "code",
   "execution_count": 151,
   "metadata": {},
   "outputs": [],
   "source": [
    "h1.reservations(p1,d1,date.today())\n",
    "h1.reservations(p2,d2,date.today())\n",
    "h1.reservations(p3,d3,date.today())\n",
    "h1.reservations(p4,d4,date.today())\n",
    "h1.reservations(p5,d5,date.today())\n",
    "h1.reservations(p6,d6,date.today())\n",
    "h1.reservations(p7,d7,date.today())\n",
    "h1.reservations(p8,d8,date.today())\n",
    "h1.reservations(p9,d9,date.today())\n",
    "h1.reservations(p10,d10,date.today())"
   ]
  },
  {
   "cell_type": "code",
   "execution_count": 152,
   "metadata": {},
   "outputs": [
    {
     "name": "stdout",
     "output_type": "stream",
     "text": [
      "=============== Our Reservations ===============\n",
      "The patient, surname:Baykara, name:Ediz; has an appointment with doctor Levent Yılmaz in 2021-09-25.\n",
      "--------------------------------------------------\n",
      "The patient, surname:Ergün, name:Evren; has an appointment with doctor Devrim Güler in 2021-09-25.\n",
      "--------------------------------------------------\n",
      "The patient, surname:Süleymanoğlu, name:Utku; has an appointment with doctor Gürsel Sümer in 2021-09-25.\n",
      "--------------------------------------------------\n",
      "The patient, surname:İşler, name:Abidin; has an appointment with doctor Güney Cevahir in 2021-09-25.\n",
      "--------------------------------------------------\n",
      "The patient, surname:Karadeniz, name:İlkay; has an appointment with doctor Dursun Koçak in 2021-09-25.\n",
      "--------------------------------------------------\n",
      "The patient, surname:Sağlam, name:Elvan; has an appointment with doctor Nuriye Giray in 2021-09-25.\n",
      "--------------------------------------------------\n",
      "The patient, surname:Altınay, name:Damla; has an appointment with doctor Ülkü Ağalı in 2021-09-25.\n",
      "--------------------------------------------------\n",
      "The patient, surname:Akça, name:Gülben; has an appointment with doctor Irmak Topuz in 2021-09-25.\n",
      "--------------------------------------------------\n",
      "The patient, surname:İşcan, name:Berrak; has an appointment with doctor Müge Zeybek in 2021-09-25.\n",
      "--------------------------------------------------\n",
      "The patient, surname:Şeker, name:Serpil; has an appointment with doctor Dilan Gökay in 2021-09-25.\n",
      "--------------------------------------------------\n"
     ]
    }
   ],
   "source": [
    "h1.getreservations()"
   ]
  }
 ],
 "metadata": {
  "kernelspec": {
   "display_name": "Python 3",
   "language": "python",
   "name": "python3"
  },
  "language_info": {
   "codemirror_mode": {
    "name": "ipython",
    "version": 3
   },
   "file_extension": ".py",
   "mimetype": "text/x-python",
   "name": "python",
   "nbconvert_exporter": "python",
   "pygments_lexer": "ipython3",
   "version": "3.7.6"
  }
 },
 "nbformat": 4,
 "nbformat_minor": 4
}
